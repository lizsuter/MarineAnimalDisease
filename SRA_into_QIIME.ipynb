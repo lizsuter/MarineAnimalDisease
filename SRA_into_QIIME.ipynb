{
 "cells": [
  {
   "cell_type": "markdown",
   "metadata": {},
   "source": [
    "# Importing SRA files into QIIME2, example"
   ]
  },
  {
   "cell_type": "markdown",
   "metadata": {},
   "source": [
    "In this example, I download fastq files from SRA by following the [Pulling SRA Data](https://github.com/lizsuter/MarineAnimalDisease/blob/master/PullingSRAdata.md) tutorial then import them into QIIME2"
   ]
  },
  {
   "cell_type": "markdown",
   "metadata": {},
   "source": [
    "I am using [BioProject# PRJNA421986](https://www.ncbi.nlm.nih.gov/bioproject/?term=PRJNA421986&utm_source=gquery&utm_medium=search)"
   ]
  },
  {
   "cell_type": "markdown",
   "metadata": {},
   "source": [
    "We need a list of all the accession numbers from the project. From BioProject page: click on the SRA experiments > Send to> File> Format: Accession list.  \n",
    "\n",
    "Then, get rid of the hard returns in the `SraAccList.txt` file"
   ]
  },
  {
   "cell_type": "code",
   "execution_count": 28,
   "metadata": {},
   "outputs": [
    {
     "name": "stdout",
     "output_type": "stream",
     "text": [
      "SRR6374533 SRR6374534 SRR6374535 SRR6374536 SRR6374537 SRR6374538 SRR6374539 SRR6374540 SRR6374541 SRR6374542 SRR6374543 SRR6374544 SRR6374545 SRR6374546 SRR6374547  "
     ]
    }
   ],
   "source": [
    "tr '\\n' ' ' < SraAccList.txt"
   ]
  },
  {
   "cell_type": "markdown",
   "metadata": {},
   "source": [
    "Next you can copy and paste the output SRA file names from in order to run `fastq-dump`"
   ]
  },
  {
   "cell_type": "code",
   "execution_count": 29,
   "metadata": {},
   "outputs": [],
   "source": [
    "cd raw_data"
   ]
  },
  {
   "cell_type": "code",
   "execution_count": 30,
   "metadata": {},
   "outputs": [
    {
     "name": "stdout",
     "output_type": "stream",
     "text": [
      "Read 191063 spots for SRR6374533\n",
      "Written 191063 spots for SRR6374533\n",
      "Read 202603 spots for SRR6374534\n",
      "Written 202603 spots for SRR6374534\n",
      "Read 249572 spots for SRR6374535\n",
      "Written 249572 spots for SRR6374535\n",
      "Read 185346 spots for SRR6374536\n",
      "Written 185346 spots for SRR6374536\n",
      "Read 185933 spots for SRR6374537\n",
      "Written 185933 spots for SRR6374537\n",
      "Read 210893 spots for SRR6374538\n",
      "Written 210893 spots for SRR6374538\n",
      "Read 220016 spots for SRR6374539\n",
      "Written 220016 spots for SRR6374539\n",
      "Read 173835 spots for SRR6374540\n",
      "Written 173835 spots for SRR6374540\n",
      "Read 210508 spots for SRR6374541\n",
      "Written 210508 spots for SRR6374541\n",
      "Read 215145 spots for SRR6374542\n",
      "Written 215145 spots for SRR6374542\n",
      "Read 220658 spots for SRR6374543\n",
      "Written 220658 spots for SRR6374543\n",
      "Read 191533 spots for SRR6374544\n",
      "Written 191533 spots for SRR6374544\n",
      "Read 234844 spots for SRR6374545\n",
      "Written 234844 spots for SRR6374545\n",
      "Read 139046 spots for SRR6374546\n",
      "Written 139046 spots for SRR6374546\n",
      "Read 167426 spots for SRR6374547\n",
      "Written 167426 spots for SRR6374547\n",
      "Read 2998421 spots total\n",
      "Written 2998421 spots total\n"
     ]
    }
   ],
   "source": [
    "fastq-dump --split-files SRR6374533 SRR6374534 SRR6374535 SRR6374536 SRR6374537 SRR6374538 SRR6374539 SRR6374540 SRR6374541 SRR6374542 SRR6374543 SRR6374544 SRR6374545 SRR6374546 SRR6374547 "
   ]
  },
  {
   "cell_type": "code",
   "execution_count": 32,
   "metadata": {},
   "outputs": [
    {
     "name": "stdout",
     "output_type": "stream",
     "text": [
      "SRR6374533_1.fastq\tSRR6374538_1.fastq\tSRR6374543_1.fastq\n",
      "SRR6374533_2.fastq\tSRR6374538_2.fastq\tSRR6374543_2.fastq\n",
      "SRR6374534_1.fastq\tSRR6374539_1.fastq\tSRR6374544_1.fastq\n",
      "SRR6374534_2.fastq\tSRR6374539_2.fastq\tSRR6374544_2.fastq\n",
      "SRR6374535_1.fastq\tSRR6374540_1.fastq\tSRR6374545_1.fastq\n",
      "SRR6374535_2.fastq\tSRR6374540_2.fastq\tSRR6374545_2.fastq\n",
      "SRR6374536_1.fastq\tSRR6374541_1.fastq\tSRR6374546_1.fastq\n",
      "SRR6374536_2.fastq\tSRR6374541_2.fastq\tSRR6374546_2.fastq\n",
      "SRR6374537_1.fastq\tSRR6374542_1.fastq\tSRR6374547_1.fastq\n",
      "SRR6374537_2.fastq\tSRR6374542_2.fastq\tSRR6374547_2.fastq\n"
     ]
    }
   ],
   "source": [
    "ls "
   ]
  },
  {
   "cell_type": "markdown",
   "metadata": {},
   "source": [
    "Next, zip the files"
   ]
  },
  {
   "cell_type": "code",
   "execution_count": 33,
   "metadata": {},
   "outputs": [],
   "source": [
    "gzip *.fastq"
   ]
  },
  {
   "cell_type": "code",
   "execution_count": 34,
   "metadata": {},
   "outputs": [
    {
     "name": "stdout",
     "output_type": "stream",
     "text": [
      "SRR6374533_1.fastq.gz\tSRR6374538_1.fastq.gz\tSRR6374543_1.fastq.gz\n",
      "SRR6374533_2.fastq.gz\tSRR6374538_2.fastq.gz\tSRR6374543_2.fastq.gz\n",
      "SRR6374534_1.fastq.gz\tSRR6374539_1.fastq.gz\tSRR6374544_1.fastq.gz\n",
      "SRR6374534_2.fastq.gz\tSRR6374539_2.fastq.gz\tSRR6374544_2.fastq.gz\n",
      "SRR6374535_1.fastq.gz\tSRR6374540_1.fastq.gz\tSRR6374545_1.fastq.gz\n",
      "SRR6374535_2.fastq.gz\tSRR6374540_2.fastq.gz\tSRR6374545_2.fastq.gz\n",
      "SRR6374536_1.fastq.gz\tSRR6374541_1.fastq.gz\tSRR6374546_1.fastq.gz\n",
      "SRR6374536_2.fastq.gz\tSRR6374541_2.fastq.gz\tSRR6374546_2.fastq.gz\n",
      "SRR6374537_1.fastq.gz\tSRR6374542_1.fastq.gz\tSRR6374547_1.fastq.gz\n",
      "SRR6374537_2.fastq.gz\tSRR6374542_2.fastq.gz\tSRR6374547_2.fastq.gz\n"
     ]
    }
   ],
   "source": [
    "ls"
   ]
  },
  {
   "cell_type": "markdown",
   "metadata": {},
   "source": [
    "In order to get the files into QIIME2, we are going to use the [manifest format](https://docs.qiime2.org/2020.2/tutorials/importing/). That requires making a manifest file which directs QIIME to the correct fastq files for each sample. And then the quickest way to make the manifest file is manually (since you likely don't have that many samples). The next few steps are helpful in getting the data to put in the manifest file:"
   ]
  },
  {
   "cell_type": "markdown",
   "metadata": {},
   "source": [
    "Use `ls` to get a list of all files which end in `_1.fastq.gz` (forward reads) and their directory locations (with `$PWD`)"
   ]
  },
  {
   "cell_type": "code",
   "execution_count": 16,
   "metadata": {},
   "outputs": [
    {
     "name": "stdout",
     "output_type": "stream",
     "text": [
      "/Volumes/MyPassport/MarineAnimalDisease_LargeFiles/raw_data/SRR6374533_1.fastq.gz\n",
      "/Volumes/MyPassport/MarineAnimalDisease_LargeFiles/raw_data/SRR6374534_1.fastq.gz\n",
      "/Volumes/MyPassport/MarineAnimalDisease_LargeFiles/raw_data/SRR6374535_1.fastq.gz\n",
      "/Volumes/MyPassport/MarineAnimalDisease_LargeFiles/raw_data/SRR6374536_1.fastq.gz\n",
      "/Volumes/MyPassport/MarineAnimalDisease_LargeFiles/raw_data/SRR6374537_1.fastq.gz\n",
      "/Volumes/MyPassport/MarineAnimalDisease_LargeFiles/raw_data/SRR6374538_1.fastq.gz\n",
      "/Volumes/MyPassport/MarineAnimalDisease_LargeFiles/raw_data/SRR6374539_1.fastq.gz\n",
      "/Volumes/MyPassport/MarineAnimalDisease_LargeFiles/raw_data/SRR6374540_1.fastq.gz\n",
      "/Volumes/MyPassport/MarineAnimalDisease_LargeFiles/raw_data/SRR6374541_1.fastq.gz\n",
      "/Volumes/MyPassport/MarineAnimalDisease_LargeFiles/raw_data/SRR6374542_1.fastq.gz\n",
      "/Volumes/MyPassport/MarineAnimalDisease_LargeFiles/raw_data/SRR6374543_1.fastq.gz\n",
      "/Volumes/MyPassport/MarineAnimalDisease_LargeFiles/raw_data/SRR6374544_1.fastq.gz\n",
      "/Volumes/MyPassport/MarineAnimalDisease_LargeFiles/raw_data/SRR6374545_1.fastq.gz\n",
      "/Volumes/MyPassport/MarineAnimalDisease_LargeFiles/raw_data/SRR6374546_1.fastq.gz\n",
      "/Volumes/MyPassport/MarineAnimalDisease_LargeFiles/raw_data/SRR6374547_1.fastq.gz\n",
      "(qiime2-2020.2) "
     ]
    },
    {
     "ename": "",
     "evalue": "1",
     "output_type": "error",
     "traceback": []
    }
   ],
   "source": [
    "ls \"$PWD\"/raw_data/*_1.fastq.gz* "
   ]
  },
  {
   "cell_type": "markdown",
   "metadata": {},
   "source": [
    "Then copy the above into a column in Excel or GoogleSheets"
   ]
  },
  {
   "cell_type": "markdown",
   "metadata": {},
   "source": [
    "Do the same for the reverse reads and copy these into another column. Do a spotcheck to make sure all forward and reverse reads are matched in the same row"
   ]
  },
  {
   "cell_type": "code",
   "execution_count": 17,
   "metadata": {},
   "outputs": [
    {
     "name": "stdout",
     "output_type": "stream",
     "text": [
      "/Volumes/MyPassport/MarineAnimalDisease_LargeFiles/raw_data/SRR6374533_2.fastq.gz\n",
      "/Volumes/MyPassport/MarineAnimalDisease_LargeFiles/raw_data/SRR6374534_2.fastq.gz\n",
      "/Volumes/MyPassport/MarineAnimalDisease_LargeFiles/raw_data/SRR6374535_2.fastq.gz\n",
      "/Volumes/MyPassport/MarineAnimalDisease_LargeFiles/raw_data/SRR6374536_2.fastq.gz\n",
      "/Volumes/MyPassport/MarineAnimalDisease_LargeFiles/raw_data/SRR6374537_2.fastq.gz\n",
      "/Volumes/MyPassport/MarineAnimalDisease_LargeFiles/raw_data/SRR6374538_2.fastq.gz\n",
      "/Volumes/MyPassport/MarineAnimalDisease_LargeFiles/raw_data/SRR6374539_2.fastq.gz\n",
      "/Volumes/MyPassport/MarineAnimalDisease_LargeFiles/raw_data/SRR6374540_2.fastq.gz\n",
      "/Volumes/MyPassport/MarineAnimalDisease_LargeFiles/raw_data/SRR6374541_2.fastq.gz\n",
      "/Volumes/MyPassport/MarineAnimalDisease_LargeFiles/raw_data/SRR6374542_2.fastq.gz\n",
      "/Volumes/MyPassport/MarineAnimalDisease_LargeFiles/raw_data/SRR6374543_2.fastq.gz\n",
      "/Volumes/MyPassport/MarineAnimalDisease_LargeFiles/raw_data/SRR6374544_2.fastq.gz\n",
      "/Volumes/MyPassport/MarineAnimalDisease_LargeFiles/raw_data/SRR6374545_2.fastq.gz\n",
      "/Volumes/MyPassport/MarineAnimalDisease_LargeFiles/raw_data/SRR6374546_2.fastq.gz\n",
      "/Volumes/MyPassport/MarineAnimalDisease_LargeFiles/raw_data/SRR6374547_2.fastq.gz\n",
      "(qiime2-2020.2) "
     ]
    },
    {
     "ename": "",
     "evalue": "1",
     "output_type": "error",
     "traceback": []
    }
   ],
   "source": [
    "ls \"$PWD\"/raw_data/*_2.fastq.gz*"
   ]
  },
  {
   "cell_type": "markdown",
   "metadata": {},
   "source": [
    "Next, take a look at the SraRunTable (from BioProject page, Click SRA Experiments> Click Send results to Run selector> Select all SRA experiments in table> In 'Select' Click Metadata under Total> Download)"
   ]
  },
  {
   "cell_type": "markdown",
   "metadata": {},
   "source": [
    "Look for sample IDs from the SraRunTable. You want to grab these and paste them into the manifest file, while making sure you are matching the correct SRA accession number to the correct sample-id (they SHOULD be in the same order but double check.)\n",
    "\n",
    "In my case, the sample-ids were listed under `LibraryName`.\n",
    "\n",
    "Put in column names `sample-id`, `forward-absolute-filepath`, and `reverse-absolute-filepath`.\n",
    "\n",
    "At the end, your manifest file should look something like this in Excel:\n",
    "\n",
    "\n",
    "<img src=\"images/manifestfileexample.png\">\n"
   ]
  },
  {
   "cell_type": "markdown",
   "metadata": {},
   "source": [
    "Save the above file as a tab-delimited `.tsv`. NOTE: you may have to save as a `.txt` tab-delimited file then manually change the extension from `.txt` to `.tsv`."
   ]
  },
  {
   "cell_type": "markdown",
   "metadata": {},
   "source": [
    "Next we open QIIME and get ready to import as a QIIME object"
   ]
  },
  {
   "cell_type": "code",
   "execution_count": 18,
   "metadata": {},
   "outputs": [
    {
     "name": "stdout",
     "output_type": "stream",
     "text": [
      "bash: activate: No such file or directory\n",
      "(qiime2-2020.2) "
     ]
    },
    {
     "ename": "",
     "evalue": "1",
     "output_type": "error",
     "traceback": []
    }
   ],
   "source": [
    "source activate qiime2-2020.2"
   ]
  },
  {
   "cell_type": "code",
   "execution_count": 19,
   "metadata": {},
   "outputs": [
    {
     "name": "stdout",
     "output_type": "stream",
     "text": [
      "\u001b[32mSystem versions\u001b[0m\n",
      "Python version: 3.6.7\n",
      "QIIME 2 release: 2020.2\n",
      "QIIME 2 version: 2020.2.0\n",
      "q2cli version: 2020.2.0\n",
      "\u001b[32m\n",
      "Installed plugins\u001b[0m\n",
      "alignment: 2020.2.0\n",
      "composition: 2020.2.0\n",
      "cutadapt: 2020.2.0\n",
      "dada2: 2020.2.0\n",
      "deblur: 2020.2.0\n",
      "demux: 2020.2.0\n",
      "diversity: 2020.2.0\n",
      "emperor: 2020.2.0\n",
      "feature-classifier: 2020.2.0\n",
      "feature-table: 2020.2.0\n",
      "fragment-insertion: 2020.2.0\n",
      "gneiss: 2020.2.0\n",
      "longitudinal: 2020.2.0\n",
      "metadata: 2020.2.0\n",
      "phylogeny: 2020.2.0\n",
      "quality-control: 2020.2.0\n",
      "quality-filter: 2020.2.0\n",
      "sample-classifier: 2020.2.0\n",
      "taxa: 2020.2.0\n",
      "types: 2020.2.0\n",
      "vsearch: 2020.2.0\n",
      "\u001b[32m\n",
      "Application config directory\u001b[0m\n",
      "/opt/anaconda3/envs/qiime2-2020.2/var/q2cli\u001b[0m\n",
      "\u001b[32m\n",
      "Getting help\u001b[0m\n",
      "To get help with QIIME 2, visit https://qiime2.org\u001b[0m\n",
      "(qiime2-2020.2) "
     ]
    },
    {
     "ename": "",
     "evalue": "1",
     "output_type": "error",
     "traceback": []
    }
   ],
   "source": [
    "qiime info"
   ]
  },
  {
   "cell_type": "markdown",
   "metadata": {},
   "source": [
    "If you look at the documentation about the manifest files again, you'll see there's a few options here. First, we have a F and R read for each sample, so we definitely have paired-end data. Second, we have to know which \"Phred\" to use...\n",
    "\n",
    "Phred is essentially a code for the quality of each base pair in the fastq file. Each bp is associated with a letter or symbol that correpsonds to a quality score, from 1 to 43 (the code is explained [here](https://www.drive5.com/usearch/manual/quality_score.html). This is  what QIIME reads later when we look at quality profiles. There are two Phred \"codes\", the older one, Phred64, and the newer one, Phred33. You likely have Phred33 fastq files but you can take a peak at a fastq file to be sure. If there are a lot of symbols everywhere, like this:\n",
    "\n",
    "<img src=\"images/phred33example.png\">\n",
    "\n",
    "Then you have Phred33. The Phred64 code is only letters.\n",
    "\n",
    "So let's tell QIIME we have paired end reads with PHRED33 scores when we import, and direct it to our manifest file:"
   ]
  },
  {
   "cell_type": "code",
   "execution_count": 8,
   "metadata": {},
   "outputs": [
    {
     "name": "stdout",
     "output_type": "stream",
     "text": [
      "PRJNA421986_biosample_metadata.txt\tSraRunTable.xlsx\n",
      "PRJNA421986_manifestfile.tsv\t\tbiosample_result.txt\n",
      "SRA_into_QIIME.ipynb\t\t\tforwardreads.txt\n",
      "SRR6374535_2.fastq\t\t\timages\n",
      "SRR6374535_2.fastq.gz\t\t\traw_data\n",
      "SraAccList.txt\t\t\t\treversereads.txt\n",
      "SraRunTable.txt\t\t\t\ttest\n",
      "(qiime2-2020.2) "
     ]
    },
    {
     "ename": "",
     "evalue": "1",
     "output_type": "error",
     "traceback": []
    }
   ],
   "source": [
    "ls"
   ]
  },
  {
   "cell_type": "code",
   "execution_count": 21,
   "metadata": {},
   "outputs": [
    {
     "name": "stdout",
     "output_type": "stream",
     "text": [
      "\u001b[32mImported PRJNA421986_manifestfile.tsv as PairedEndFastqManifestPhred33V2 to paired-end-demux.qza\u001b[0m\n",
      "(qiime2-2020.2) "
     ]
    },
    {
     "ename": "",
     "evalue": "1",
     "output_type": "error",
     "traceback": []
    }
   ],
   "source": [
    "qiime tools import \\\n",
    "  --type 'SampleData[PairedEndSequencesWithQuality]' \\\n",
    "  --input-path PRJNA421986_manifestfile.tsv \\\n",
    "  --output-path paired-end-demux.qza \\\n",
    "  --input-format PairedEndFastqManifestPhred33V2"
   ]
  },
  {
   "cell_type": "markdown",
   "metadata": {},
   "source": [
    "That works! Once imported as .qza file, you can continue with the rest of the tutorial"
   ]
  }
 ],
 "metadata": {
  "kernelspec": {
   "display_name": "Bash",
   "language": "bash",
   "name": "bash"
  },
  "language_info": {
   "codemirror_mode": "shell",
   "file_extension": ".sh",
   "mimetype": "text/x-sh",
   "name": "bash"
  }
 },
 "nbformat": 4,
 "nbformat_minor": 4
}
